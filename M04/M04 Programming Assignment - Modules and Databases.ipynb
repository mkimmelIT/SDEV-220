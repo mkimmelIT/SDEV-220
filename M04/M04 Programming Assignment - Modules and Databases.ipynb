{
 "cells": [
  {
   "cell_type": "markdown",
   "id": "e3ee8ab3",
   "metadata": {},
   "source": [
    "# 11.1"
   ]
  },
  {
   "cell_type": "code",
   "execution_count": 2,
   "id": "1cb9daaf",
   "metadata": {},
   "outputs": [
    {
     "name": "stdout",
     "output_type": "stream",
     "text": [
      "Open 9-5 daily\n"
     ]
    }
   ],
   "source": [
    "import zoo\n",
    "\n",
    "zoo.hours()"
   ]
  },
  {
   "cell_type": "markdown",
   "id": "315162cf",
   "metadata": {},
   "source": [
    "# 11.2"
   ]
  },
  {
   "cell_type": "code",
   "execution_count": 3,
   "id": "7b46a195",
   "metadata": {},
   "outputs": [
    {
     "name": "stdout",
     "output_type": "stream",
     "text": [
      "Open 9-5 daily\n"
     ]
    }
   ],
   "source": [
    "import zoo as menagerie\n",
    "\n",
    "menagerie.hours()"
   ]
  },
  {
   "cell_type": "markdown",
   "id": "2df0bf8c",
   "metadata": {},
   "source": [
    "# 16.3"
   ]
  },
  {
   "cell_type": "code",
   "execution_count": 6,
   "id": "8f46aa8e",
   "metadata": {},
   "outputs": [],
   "source": [
    "text = '''title,author,year\n",
    "The Weirdstone of Brisingamen,Alan Garner,1960\n",
    "Perdido Street Station,China Miéville,2000\n",
    "Thud!,Terry Pratchett,2005\n",
    "The Spellman Files,Lisa Lutz,2007\n",
    "Small Gods,Terry Pratchett,1992\n",
    "'''\n",
    "with open('books2.csv', 'wt') as bookfile:\n",
    "    bookfile.write(text)"
   ]
  },
  {
   "cell_type": "markdown",
   "id": "1deb01d5",
   "metadata": {},
   "source": [
    "# 16.4"
   ]
  },
  {
   "cell_type": "code",
   "execution_count": 4,
   "id": "ca910b10",
   "metadata": {},
   "outputs": [],
   "source": [
    "import sqlite3\n",
    "conn = sqlite3.connect('books.db')\n",
    "curs = conn.cursor()\n",
    "curs.execute('''CREATE TABLE book\n",
    "(title text, author text, year int)''')\n",
    "conn.commit()"
   ]
  },
  {
   "cell_type": "markdown",
   "id": "22e3a12e",
   "metadata": {},
   "source": [
    "# 16.5"
   ]
  },
  {
   "cell_type": "code",
   "execution_count": 8,
   "id": "f4cf2241",
   "metadata": {},
   "outputs": [],
   "source": [
    "import csv\n",
    "import sqlite3\n",
    "instr = 'insert into book values(?, ?, ?)'\n",
    "with open('books2.csv', 'rt') as newfile:\n",
    "    books = csv.DictReader(newfile)\n",
    "    for book in books:\n",
    "        curs.execute(instr, (book['title'], book['author'], book['year']))\n",
    "        conn.commit()"
   ]
  },
  {
   "cell_type": "markdown",
   "id": "069d91f9",
   "metadata": {},
   "source": [
    "# 16.8"
   ]
  },
  {
   "cell_type": "code",
   "execution_count": 11,
   "id": "23b10651",
   "metadata": {},
   "outputs": [
    {
     "name": "stdout",
     "output_type": "stream",
     "text": [
      "('Perdido Street Station',)\n",
      "('Small Gods',)\n",
      "('The Spellman Files',)\n",
      "('The Weirdstone of Brisingamen',)\n",
      "('Thud!',)\n"
     ]
    }
   ],
   "source": [
    "import sqlalchemy as sa\n",
    "conn = sa.create_engine('sqlite:///books.db')\n",
    "sql = 'select title from book order by title asc'\n",
    "rows = conn.execute(sql)\n",
    "for row in rows:\n",
    "    print(row)"
   ]
  }
 ],
 "metadata": {
  "kernelspec": {
   "display_name": "Python 3 (ipykernel)",
   "language": "python",
   "name": "python3"
  },
  "language_info": {
   "codemirror_mode": {
    "name": "ipython",
    "version": 3
   },
   "file_extension": ".py",
   "mimetype": "text/x-python",
   "name": "python",
   "nbconvert_exporter": "python",
   "pygments_lexer": "ipython3",
   "version": "3.9.12"
  }
 },
 "nbformat": 4,
 "nbformat_minor": 5
}
