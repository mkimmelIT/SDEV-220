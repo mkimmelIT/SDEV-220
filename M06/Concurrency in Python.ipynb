{
 "cells": [
  {
   "cell_type": "markdown",
   "id": "df9b9d43",
   "metadata": {},
   "source": [
    "# 13.1"
   ]
  },
  {
   "cell_type": "code",
   "execution_count": 1,
   "id": "3bdb651e",
   "metadata": {},
   "outputs": [],
   "source": [
    "from datetime import date\n",
    "\n",
    "current_date = date.today()\n",
    "with open('today.txt', 'wt') as output:\n",
    "    print(current_date.isoformat(), file=output)"
   ]
  },
  {
   "cell_type": "markdown",
   "id": "41ccd42a",
   "metadata": {},
   "source": [
    "# 13.2"
   ]
  },
  {
   "cell_type": "code",
   "execution_count": 2,
   "id": "054e0290",
   "metadata": {},
   "outputs": [
    {
     "name": "stdout",
     "output_type": "stream",
     "text": [
      "2022-07-14\n",
      "\n"
     ]
    }
   ],
   "source": [
    "with open('today.txt', 'rt') as input:\n",
    "    today_string = input.read()\n",
    "    \n",
    "print(today_string)"
   ]
  },
  {
   "cell_type": "markdown",
   "id": "f01c825e",
   "metadata": {},
   "source": [
    "# 13.3"
   ]
  },
  {
   "cell_type": "code",
   "execution_count": 4,
   "id": "54ea01cb",
   "metadata": {},
   "outputs": [
    {
     "data": {
      "text/plain": [
       "datetime.datetime(2022, 7, 14, 0, 0)"
      ]
     },
     "execution_count": 4,
     "metadata": {},
     "output_type": "execute_result"
    }
   ],
   "source": [
    "from datetime import *\n",
    "\n",
    "parsed = '%Y-%m-%d\\n'\n",
    "datetime.strptime(today_string, parsed)"
   ]
  },
  {
   "cell_type": "markdown",
   "id": "06bfe3ec",
   "metadata": {},
   "source": [
    "# 15.1"
   ]
  },
  {
   "cell_type": "code",
   "execution_count": 7,
   "id": "d348496d",
   "metadata": {},
   "outputs": [],
   "source": [
    "import multiprocessing\n",
    "from datetime import datetime\n",
    "from time import sleep\n",
    "import random\n",
    "\n",
    "def current_time(wait):\n",
    "    sleep(wait)\n",
    "    print('The time is', datetime.utcnow())\n",
    "    \n",
    "if __name__ == '__main__':\n",
    "    for i in range(3):\n",
    "        wait = random.random()\n",
    "        prcs = multiprocessing.Process(target=current_time, args=(wait,))\n",
    "        prcs.start()\n",
    "    "
   ]
  },
  {
   "cell_type": "code",
   "execution_count": null,
   "id": "bec5916d",
   "metadata": {},
   "outputs": [],
   "source": []
  }
 ],
 "metadata": {
  "kernelspec": {
   "display_name": "Python 3 (ipykernel)",
   "language": "python",
   "name": "python3"
  },
  "language_info": {
   "codemirror_mode": {
    "name": "ipython",
    "version": 3
   },
   "file_extension": ".py",
   "mimetype": "text/x-python",
   "name": "python",
   "nbconvert_exporter": "python",
   "pygments_lexer": "ipython3",
   "version": "3.9.12"
  }
 },
 "nbformat": 4,
 "nbformat_minor": 5
}
